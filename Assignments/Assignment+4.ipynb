{
 "cells": [
  {
   "cell_type": "markdown",
   "metadata": {},
   "source": [
    "---\n",
    "\n",
    "_You are currently looking at **version 1.0** of this notebook. To download notebooks and datafiles, as well as get help on Jupyter notebooks in the Coursera platform, visit the [Jupyter Notebook FAQ](https://www.coursera.org/learn/python-machine-learning/resources/bANLa) course resource._\n",
    "\n",
    "---"
   ]
  },
  {
   "cell_type": "markdown",
   "metadata": {},
   "source": [
    "## Assignment 4 - Understanding and Predicting Property Maintenance Fines\n",
    "\n",
    "This assignment is based on a data challenge from the Michigan Data Science Team ([MDST](http://midas.umich.edu/mdst/)). \n",
    "\n",
    "The Michigan Data Science Team ([MDST](http://midas.umich.edu/mdst/)) and the Michigan Student Symposium for Interdisciplinary Statistical Sciences ([MSSISS](https://sites.lsa.umich.edu/mssiss/)) have partnered with the City of Detroit to help solve one of the most pressing problems facing Detroit - blight. [Blight violations](http://www.detroitmi.gov/How-Do-I/Report/Blight-Complaint-FAQs) are issued by the city to individuals who allow their properties to remain in a deteriorated condition. Every year, the city of Detroit issues millions of dollars in fines to residents and every year, many of these fines remain unpaid. Enforcing unpaid blight fines is a costly and tedious process, so the city wants to know: how can we increase blight ticket compliance?\n",
    "\n",
    "The first step in answering this question is understanding when and why a resident might fail to comply with a blight ticket. This is where predictive modeling comes in. For this assignment, your task is to predict whether a given blight ticket will be paid on time.\n",
    "\n",
    "All data for this assignment has been provided to us through the [Detroit Open Data Portal](https://data.detroitmi.gov/). **Only the data already included in your Coursera directory can be used for training the model for this assignment.** Nonetheless, we encourage you to look into data from other Detroit datasets to help inform feature creation and model selection. We recommend taking a look at the following related datasets:\n",
    "\n",
    "* [Building Permits](https://data.detroitmi.gov/Property-Parcels/Building-Permits/xw2a-a7tf)\n",
    "* [Trades Permits](https://data.detroitmi.gov/Property-Parcels/Trades-Permits/635b-dsgv)\n",
    "* [Improve Detroit: Submitted Issues](https://data.detroitmi.gov/Government/Improve-Detroit-Submitted-Issues/fwz3-w3yn)\n",
    "* [DPD: Citizen Complaints](https://data.detroitmi.gov/Public-Safety/DPD-Citizen-Complaints-2016/kahe-efs3)\n",
    "* [Parcel Map](https://data.detroitmi.gov/Property-Parcels/Parcel-Map/fxkw-udwf)\n",
    "\n",
    "___\n",
    "\n",
    "We provide you with two data files for use in training and validating your models: train.csv and test.csv. Each row in these two files corresponds to a single blight ticket, and includes information about when, why, and to whom each ticket was issued. The target variable is compliance, which is True if the ticket was paid early, on time, or within one month of the hearing data, False if the ticket was paid after the hearing date or not at all, and Null if the violator was found not responsible. Compliance, as well as a handful of other variables that will not be available at test-time, are only included in train.csv.\n",
    "\n",
    "Note: All tickets where the violators were found not responsible are not considered during evaluation. They are included in the training set as an additional source of data for visualization, and to enable unsupervised and semi-supervised approaches. However, they are not included in the test set.\n",
    "\n",
    "<br>\n",
    "\n",
    "**File descriptions** (Use only this data for training your model!)\n",
    "\n",
    "    train.csv - the training set (all tickets issued 2004-2011)\n",
    "    test.csv - the test set (all tickets issued 2012-2016)\n",
    "    addresses.csv & latlons.csv - mapping from ticket id to addresses, and from addresses to lat/lon coordinates. \n",
    "     Note: misspelled addresses may be incorrectly geolocated.\n",
    "\n",
    "<br>\n",
    "\n",
    "**Data fields**\n",
    "\n",
    "train.csv & test.csv\n",
    "\n",
    "    ticket_id - unique identifier for tickets\n",
    "    agency_name - Agency that issued the ticket\n",
    "    inspector_name - Name of inspector that issued the ticket\n",
    "    violator_name - Name of the person/organization that the ticket was issued to\n",
    "    violation_street_number, violation_street_name, violation_zip_code - Address where the violation occurred\n",
    "    mailing_address_str_number, mailing_address_str_name, city, state, zip_code, non_us_str_code, country - Mailing address of the violator\n",
    "    ticket_issued_date - Date and time the ticket was issued\n",
    "    hearing_date - Date and time the violator's hearing was scheduled\n",
    "    violation_code, violation_description - Type of violation\n",
    "    disposition - Judgment and judgement type\n",
    "    fine_amount - Violation fine amount, excluding fees\n",
    "    admin_fee - $20 fee assigned to responsible judgments\n",
    "state_fee - $10 fee assigned to responsible judgments\n",
    "    late_fee - 10% fee assigned to responsible judgments\n",
    "    discount_amount - discount applied, if any\n",
    "    clean_up_cost - DPW clean-up or graffiti removal cost\n",
    "    judgment_amount - Sum of all fines and fees\n",
    "    grafitti_status - Flag for graffiti violations\n",
    "    \n",
    "train.csv only\n",
    "\n",
    "    payment_amount - Amount paid, if any\n",
    "    payment_date - Date payment was made, if it was received\n",
    "    payment_status - Current payment status as of Feb 1 2017\n",
    "    balance_due - Fines and fees still owed\n",
    "    collection_status - Flag for payments in collections\n",
    "    compliance [target variable for prediction] \n",
    "     Null = Not responsible\n",
    "     0 = Responsible, non-compliant\n",
    "     1 = Responsible, compliant\n",
    "    compliance_detail - More information on why each ticket was marked compliant or non-compliant\n",
    "\n",
    "\n",
    "___\n",
    "\n",
    "## Evaluation\n",
    "\n",
    "Your predictions will be given as the probability that the corresponding blight ticket will be paid on time.\n",
    "\n",
    "The evaluation metric for this assignment is the Area Under the ROC Curve (AUC). \n",
    "\n",
    "Your grade will be based on the AUC score computed for your classifier. A model which with an AUROC of 0.7 passes this assignment, over 0.75 will recieve full points.\n",
    "___\n",
    "\n",
    "For this assignment, create a function that trains a model to predict blight ticket compliance in Detroit using `train.csv`. Using this model, return a series of length 61001 with the data being the probability that each corresponding ticket from `test.csv` will be paid, and the index being the ticket_id.\n",
    "\n",
    "Example:\n",
    "\n",
    "    ticket_id\n",
    "       284932    0.531842\n",
    "       285362    0.401958\n",
    "       285361    0.105928\n",
    "       285338    0.018572\n",
    "                 ...\n",
    "       376499    0.208567\n",
    "       376500    0.818759\n",
    "       369851    0.018528\n",
    "       Name: compliance, dtype: float32"
   ]
  },
  {
   "cell_type": "code",
   "execution_count": 2,
   "metadata": {
    "collapsed": true
   },
   "outputs": [],
   "source": [
    "import pandas as pd\n",
    "import numpy as np"
   ]
  },
  {
   "cell_type": "code",
   "execution_count": 3,
   "metadata": {
    "collapsed": false
   },
   "outputs": [],
   "source": [
    "address_df = pd.read_csv('addresses.csv', encoding='ISO-8859-1')"
   ]
  },
  {
   "cell_type": "code",
   "execution_count": 4,
   "metadata": {
    "collapsed": true
   },
   "outputs": [],
   "source": [
    "def get_most_important_features(data_train, target_train, n = -1):\n",
    "    from sklearn.tree import DecisionTreeClassifier\n",
    "    \n",
    "    clf = DecisionTreeClassifier(random_state = 0)\n",
    "    clf.fit(data_train.values, target_train.values)\n",
    "    features = clf.feature_importances_\n",
    "\n",
    "    \n",
    "    df = pd.DataFrame({'feature_name':data_train.columns, 'feature':features})\n",
    "    df.set_index('feature_name', inplace = True)\n",
    "    df.sort('feature', inplace=True, ascending=False)\n",
    "    \n",
    "    return list(df.index[:n])"
   ]
  },
  {
   "cell_type": "code",
   "execution_count": 5,
   "metadata": {
    "collapsed": false
   },
   "outputs": [],
   "source": [
    "'''\n",
    "    return a Serie with the new category created\n",
    "'''\n",
    "def codify(df, column):\n",
    "    values = df[column].unique()\n",
    "    codes = {}\n",
    "    for code, value in zip(range(1,len(values)+1),values):\n",
    "        codes[value] = code\n",
    "    \n",
    "    return df[column].apply(lambda code: codes[code])\n",
    "#codify(data_train, 'agency_name')"
   ]
  },
  {
   "cell_type": "code",
   "execution_count": 6,
   "metadata": {
    "collapsed": false
   },
   "outputs": [],
   "source": [
    "data_test = pd.read_csv('test.csv', encoding='ISO-8859-1')"
   ]
  },
  {
   "cell_type": "markdown",
   "metadata": {},
   "source": [
    "### Creating Data Train Frame"
   ]
  },
  {
   "cell_type": "code",
   "execution_count": 34,
   "metadata": {
    "collapsed": false
   },
   "outputs": [
    {
     "data": {
      "text/plain": [
       "67"
      ]
     },
     "execution_count": 34,
     "metadata": {},
     "output_type": "execute_result"
    }
   ],
   "source": [
    "def get_elaspsed_days(data1, data2):\n",
    "    if type(data1) == float or type(data2) == float:\n",
    "        return 0\n",
    "    \n",
    "    #2004-03-16 11:40:00\n",
    "    y1,m1,d1 = data1.split(\" \")[0].split('-')\n",
    "    y2,m2,d2 = data2.split(\" \")[0].split('-')\n",
    "    \n",
    "    y1 = int(y1)\n",
    "    y2 = int(y2)\n",
    "    m1 = int(m1)\n",
    "    m2 = int(m2)\n",
    "    d1 = int(d1)\n",
    "    d2 = int(d2)\n",
    "    \n",
    "    dd = 0\n",
    "    dm = 0\n",
    "    dy = 0\n",
    "    \n",
    "    if m2 > m1:\n",
    "        dd = 30 - d1 + d2\n",
    "    else:\n",
    "        dd = d2 - d1\n",
    "    \n",
    "    if y2 > y1:\n",
    "        dm = 12- m1 + m2\n",
    "    else:\n",
    "        dm = m2 - m1 - 1\n",
    "        if dm < 0:\n",
    "            dm = 0\n",
    "            \n",
    "    if y1 > y2:\n",
    "        return 0\n",
    "    else:\n",
    "        dy = y2 - y1 - 1\n",
    "        if dy < 0:\n",
    "            dy = 0        \n",
    "    \n",
    "    elapsed_days = dy*365 + dm*30 + dd\n",
    "    if elapsed_days < 0:\n",
    "        return 0\n",
    "    else:\n",
    "        return elapsed_days\n",
    "    \n",
    "date1 = '2004-03-16 11:40:00'\n",
    "date2 = '2004-05-23 12:30:00'\n",
    "get_elaspsed_days(date1, date2)"
   ]
  },
  {
   "cell_type": "code",
   "execution_count": 64,
   "metadata": {
    "collapsed": false
   },
   "outputs": [
    {
     "name": "stderr",
     "output_type": "stream",
     "text": [
      "/opt/conda/lib/python3.5/site-packages/IPython/core/interactiveshell.py:2717: DtypeWarning: Columns (11,12,31) have mixed types. Specify dtype option on import or set low_memory=False.\n",
      "  interactivity=interactivity, compiler=compiler, result=result)\n"
     ]
    }
   ],
   "source": [
    "data_train = pd.read_csv('train.csv', encoding='ISO-8859-1')\n",
    "\n",
    "data_train.set_index('ticket_id', inplace=True)\n",
    "\n",
    "data_train['compliance'].fillna(value=-1, inplace=True)\n",
    "data_train = data_train[data_train['compliance'] >= 0]\n",
    "\n",
    "target = data_train['compliance'].copy()\n",
    "\n",
    "columns_to_del = ['payment_amount','payment_date','payment_status','balance_due', 'collection_status',\n",
    "                  'grafitti_status', 'clean_up_cost','state_fee','admin_fee','violation_description','zip_code',\n",
    "                  'mailing_address_str_name', 'violation_zip_code', 'violation_street_name',\n",
    "                  'violation_street_number','violator_name', 'inspector_name','city','compliance_detail',\n",
    "                  'compliance']\n",
    "\n",
    "for column in columns_to_del:\n",
    "    del data_train[column]\n",
    "\n",
    "columns_to_code = ['agency_name','country','disposition','violation_code','state','non_us_str_code','mailing_address_str_number']\n",
    "for column in columns_to_code:\n",
    "    data_train[column].fillna(value='--', inplace=True)\n",
    "    data_train[column] = codify(data_train,column)  \n",
    "\n",
    "data_train['days_elapsed'] = data_train.apply(lambda row: get_elaspsed_days(row['ticket_issued_date'],row['hearing_date']),axis=1)\n",
    "data_train['days_elapsed'].fillna(value=data_train['days_elapsed'].mean())\n",
    "\n",
    "del data_train['ticket_issued_date']\n",
    "del data_train['hearing_date']\n"
   ]
  },
  {
   "cell_type": "code",
   "execution_count": 65,
   "metadata": {
    "collapsed": false
   },
   "outputs": [
    {
     "name": "stderr",
     "output_type": "stream",
     "text": [
      "/opt/conda/lib/python3.5/site-packages/ipykernel/__main__.py:11: FutureWarning: sort(columns=....) is deprecated, use sort_values(by=.....)\n"
     ]
    }
   ],
   "source": [
    "data_train.fillna(value=0,inplace=True)\n",
    "most_imp_feat = get_most_important_features(data_train,target)\n",
    "\n",
    "data_train = data_train[most_imp_feat]\n",
    "#most_imp_feat"
   ]
  },
  {
   "cell_type": "markdown",
   "metadata": {},
   "source": [
    "### Creating Data test frame"
   ]
  },
  {
   "cell_type": "code",
   "execution_count": 66,
   "metadata": {
    "collapsed": false
   },
   "outputs": [],
   "source": [
    "columns_only_in_train = ['payment_amount','payment_date' ,'payment_status','balance_due', 'collection_status', \n",
    "                         'compliance', 'compliance_detail']\n",
    "\n",
    "columns_to_del = ['grafitti_status', 'clean_up_cost','state_fee','admin_fee','violation_description','zip_code',\n",
    "                  'mailing_address_str_name', 'violation_zip_code', 'violation_street_name',\n",
    "                  'violation_street_number','violator_name', 'inspector_name','city']\n",
    "\n",
    "data_test = pd.read_csv('test.csv')\n",
    "\n",
    "data_test.set_index('ticket_id',inplace=True)\n",
    "\n",
    "for column in columns_to_del:\n",
    "    del data_test[column]\n",
    "\n",
    "      \n",
    "columns_to_code = ['agency_name','country','disposition','violation_code','state','non_us_str_code','mailing_address_str_number']\n",
    "for column in columns_to_code:\n",
    "    data_test[column].fillna(value='--', inplace=True)\n",
    "    data_test[column] = codify(data_test,column)   \n",
    "\n",
    "data_test['days_elapsed'] = data_test.apply(lambda row: get_elaspsed_days(row['ticket_issued_date'],row['hearing_date']),axis=1)\n",
    "data_test['days_elapsed'].fillna(value=data_test['days_elapsed'].mean())\n",
    "del data_test['ticket_issued_date']\n",
    "del data_test['hearing_date']\n",
    "\n",
    "data_test = data_test[most_imp_feat]"
   ]
  },
  {
   "cell_type": "code",
   "execution_count": 67,
   "metadata": {
    "collapsed": false
   },
   "outputs": [],
   "source": [
    "from sklearn.preprocessing import MinMaxScaler\n",
    "from sklearn.model_selection import train_test_split\n",
    "from sklearn.metrics import roc_curve, auc\n",
    "\n",
    "scaler = MinMaxScaler()\n",
    "#X_train, X_test, y_train, y_test = train_test_split(data_train.values, target.values, random_state = 0)\n",
    "X_train, X_test, y_train, y_test = data_train.values, data_test.values, target.values,[]\n",
    "\n",
    "#X_train_scaled = scaler.fit_transform(X_train)\n",
    "#X_test_scaled = scaler.transform(X_test)\n",
    "\n",
    "#print(X_train.shape)\n",
    "#print(y_train.shape)\n",
    "#print(data_test.shape)"
   ]
  },
  {
   "cell_type": "markdown",
   "metadata": {},
   "source": [
    "### Decision Tree approach"
   ]
  },
  {
   "cell_type": "code",
   "execution_count": 12,
   "metadata": {
    "collapsed": false
   },
   "outputs": [
    {
     "data": {
      "text/plain": [
       "'from sklearn.tree import DecisionTreeClassifier\\n\\nclf = DecisionTreeClassifier().fit(X_train, y_train)\\n\\nprint(\"score: {}\".format(clf.score(X_train, y_train)))\\n#print(\"score: {}\".format(clf.score(X_test, y_test)))\\n\\npred = clf.predict(data_test.values)\\n\\nprediction = pd.Series(pred, index = data_test.index)\\nprediction\\n'"
      ]
     },
     "execution_count": 12,
     "metadata": {},
     "output_type": "execute_result"
    }
   ],
   "source": [
    "'''from sklearn.tree import DecisionTreeClassifier\n",
    "\n",
    "clf = DecisionTreeClassifier().fit(X_train, y_train)\n",
    "\n",
    "print(\"score: {}\".format(clf.score(X_train, y_train)))\n",
    "#print(\"score: {}\".format(clf.score(X_test, y_test)))\n",
    "\n",
    "pred = clf.predict(data_test.values)\n",
    "\n",
    "prediction = pd.Series(pred, index = data_test.index)\n",
    "prediction\n",
    "'''\n"
   ]
  },
  {
   "cell_type": "markdown",
   "metadata": {},
   "source": [
    "### Logistic regression approach"
   ]
  },
  {
   "cell_type": "code",
   "execution_count": 68,
   "metadata": {
    "collapsed": false
   },
   "outputs": [
    {
     "name": "stdout",
     "output_type": "stream",
     "text": [
      "Score:0.9347760820615462\n"
     ]
    },
    {
     "name": "stderr",
     "output_type": "stream",
     "text": [
      "/opt/conda/lib/python3.5/site-packages/sklearn/linear_model/base.py:352: RuntimeWarning: overflow encountered in exp\n",
      "  np.exp(prob, prob)\n"
     ]
    }
   ],
   "source": [
    "from sklearn.linear_model import LogisticRegression\n",
    "clf = LogisticRegression().fit(X_train, y_train)\n",
    "\n",
    "print(\"Score:{}\".format(clf.score(X_train, y_train)))\n",
    "\n",
    "pred_prob = clf.fit(X_train, y_train).predict_proba(X_test)\n",
    "prediction_prob = pd.Series(pred_prob[:,1],index=data_test.index)\n",
    "\n"
   ]
  },
  {
   "cell_type": "markdown",
   "metadata": {},
   "source": [
    "### SVM approach"
   ]
  },
  {
   "cell_type": "code",
   "execution_count": 14,
   "metadata": {
    "collapsed": false
   },
   "outputs": [
    {
     "data": {
      "text/plain": [
       "'\\ngamma = []\\nC = []\\nsvm_clf = SVC(kernel=\\'rbf\\', C = 1)\\nsvm_clf.fit(X_train, y_train)\\n\\nscore = svm_clf.decision_function(X_test)\\nfpr, tpr, _ = roc_curve(y_test, score)\\nroc_auc = auc(fpr, tpr)\\naccuracy = svm_clf.score(X_test, y_test)\\nprint(\"accuracy = {:.2f}   AUC = {:.2f}\".format(accuracy, roc_auc))\\n'"
      ]
     },
     "execution_count": 14,
     "metadata": {},
     "output_type": "execute_result"
    }
   ],
   "source": [
    "from sklearn.svm import SVC\n",
    "\n",
    "'''\n",
    "gamma = []\n",
    "C = []\n",
    "svm_clf = SVC(kernel='rbf', C = 1)\n",
    "svm_clf.fit(X_train, y_train)\n",
    "\n",
    "score = svm_clf.decision_function(X_test)\n",
    "fpr, tpr, _ = roc_curve(y_test, score)\n",
    "roc_auc = auc(fpr, tpr)\n",
    "accuracy = svm_clf.score(X_test, y_test)\n",
    "print(\"accuracy = {:.2f}   AUC = {:.2f}\".format(accuracy, roc_auc))\n",
    "'''"
   ]
  },
  {
   "cell_type": "markdown",
   "metadata": {
    "collapsed": false
   },
   "source": [
    "### Neural Network approach"
   ]
  },
  {
   "cell_type": "code",
   "execution_count": 15,
   "metadata": {
    "collapsed": false
   },
   "outputs": [
    {
     "data": {
      "text/plain": [
       "\"scaler = MinMaxScaler()\\n#select the main features\\nlayers = [10,10,10]\\nmlp = MLPClassifier(hidden_layer_sizes = layers, alpha = 5.0, random_state = 0, solver = 'lbfgs')\\nmlp.fit(X_train, y_train)\\n\""
      ]
     },
     "execution_count": 15,
     "metadata": {},
     "output_type": "execute_result"
    }
   ],
   "source": [
    "#from sklearn.neural_network import MLPClassifier\n",
    "\n",
    "'''scaler = MinMaxScaler()\n",
    "#select the main features\n",
    "layers = [10,10,10]\n",
    "mlp = MLPClassifier(hidden_layer_sizes = layers, alpha = 5.0, random_state = 0, solver = 'lbfgs')\n",
    "mlp.fit(X_train, y_train)\n",
    "'''\n",
    "#print(\"Score:{}\".format(mlp.score(X_train, y_train)))\n",
    "#print(\"Score:{}\".format(mlp.score(X_test, y_test)))\n",
    "\n",
    "\n",
    "#prediction = pd.Series(pred, index=data_test.index)\n",
    "#prediction\n"
   ]
  },
  {
   "cell_type": "code",
   "execution_count": 69,
   "metadata": {
    "collapsed": true
   },
   "outputs": [],
   "source": [
    "\n",
    "def blight_model():\n",
    "    \n",
    "    # Your code here\n",
    "    \n",
    "    return prediction_prob"
   ]
  }
 ],
 "metadata": {
  "coursera": {
   "course_slug": "python-machine-learning",
   "graded_item_id": "nNS8l",
   "launcher_item_id": "yWWk7",
   "part_id": "w8BSS"
  },
  "kernelspec": {
   "display_name": "Python 3",
   "language": "python",
   "name": "python3"
  },
  "language_info": {
   "codemirror_mode": {
    "name": "ipython",
    "version": 3
   },
   "file_extension": ".py",
   "mimetype": "text/x-python",
   "name": "python",
   "nbconvert_exporter": "python",
   "pygments_lexer": "ipython3",
   "version": "3.5.2"
  }
 },
 "nbformat": 4,
 "nbformat_minor": 2
}
